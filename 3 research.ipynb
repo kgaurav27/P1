{
 "cells": [
  {
   "cell_type": "markdown",
   "metadata": {},
   "source": [
    "# KUMAR GAURAV 20122065"
   ]
  },
  {
   "cell_type": "markdown",
   "metadata": {},
   "source": [
    "### Research part \n"
   ]
  },
  {
   "cell_type": "markdown",
   "metadata": {},
   "source": [
    "# Part 3"
   ]
  },
  {
   "cell_type": "code",
   "execution_count": null,
   "metadata": {},
   "outputs": [],
   "source": [
    "import pandas as pd\n",
    "import numpy as np\n",
    "import numpy as np\n",
    "import pandas as pd\n",
    "import matplotlib.pyplot as plt\n",
    "import math\n",
    "import mlxtend\n",
    "import sklearn.cluster as cluster\n",
    "import sklearn.neighbors\n",
    "import sklearn.metrics as metrics\n",
    "import re\n",
    "from nltk.corpus import stopwords\n",
    "from sklearn.feature_extraction.text import CountVectorizer\n",
    "from sklearn.metrics.pairwise import cosine_similarity\n",
    "import string\n",
    "from sklearn.metrics import ConfusionMatrixDisplay\n",
    "from sklearn.linear_model import LogisticRegression\n",
    "from sklearn.model_selection import train_test_split\n",
    "from sklearn.model_selection import cross_val_score\n",
    "from sklearn.feature_extraction.text import TfidfTransformer\n",
    "from sklearn.naive_bayes import MultinomialNB\n",
    "from sklearn.metrics import classification_report,confusion_matrix, roc_curve, auc, precision_score, recall_score, f1_score, precision_recall_curve\n",
    "import nltk\n",
    "nltk.download('wordnet')\n",
    "nltk.download('stopwords')\n",
    "from nltk.tokenize import word_tokenize \n",
    "from nltk.tokenize import RegexpTokenizer\n",
    "import warnings\n",
    "warnings.filterwarnings('ignore')"
   ]
  },
  {
   "cell_type": "code",
   "execution_count": 2,
   "metadata": {
    "execution": {
     "iopub.execute_input": "2021-11-20T13:44:59.171056Z",
     "iopub.status.busy": "2021-11-20T13:44:59.170500Z",
     "iopub.status.idle": "2021-11-20T13:44:59.264858Z",
     "shell.execute_reply": "2021-11-20T13:44:59.265960Z"
    },
    "id": "-cLXFN-aVGAv",
    "outputId": "6e6916a1-ce2b-4a67-904f-690be3c74468",
    "papermill": {
     "duration": 0.130109,
     "end_time": "2021-11-20T13:44:59.266154",
     "exception": false,
     "start_time": "2021-11-20T13:44:59.136045",
     "status": "completed"
    },
    "tags": []
   },
   "outputs": [
    {
     "name": "stdout",
     "output_type": "stream",
     "text": [
      "Total data: (20000, 2)\n"
     ]
    }
   ],
   "source": [
    "train_data = pd.read_csv('../input/emotions-dataset-for-nlp/train.txt',names=['sentence','emotion'],header=None, sep=';')\n",
    "test_data = pd.read_csv('../input/emotions-dataset-for-nlp/test.txt',names=['sentence','emotion'],header=None, sep=';')\n",
    "val_data= pd.read_csv('../input/emotions-dataset-for-nlp/val.txt',names=['sentence','emotion'],header=None, sep=';')\n",
    "df = pd.concat([train_data,test_data, val_data])\n",
    "print('Total data:',df.shape)"
   ]
  },
  {
   "cell_type": "code",
   "execution_count": 3,
   "metadata": {
    "execution": {
     "iopub.execute_input": "2021-11-20T13:44:59.343317Z",
     "iopub.status.busy": "2021-11-20T13:44:59.342598Z",
     "iopub.status.idle": "2021-11-20T13:44:59.345780Z",
     "shell.execute_reply": "2021-11-20T13:44:59.346252Z"
    },
    "id": "K-Rc1a0xPAbz",
    "outputId": "4011ce2d-0dd9-43d1-f3dd-3ee62e71310f",
    "papermill": {
     "duration": 0.051281,
     "end_time": "2021-11-20T13:44:59.346397",
     "exception": false,
     "start_time": "2021-11-20T13:44:59.295116",
     "status": "completed"
    },
    "tags": []
   },
   "outputs": [
    {
     "data": {
      "text/plain": [
       "sentence    0\n",
       "emotion     0\n",
       "dtype: int64"
      ]
     },
     "execution_count": 3,
     "metadata": {},
     "output_type": "execute_result"
    }
   ],
   "source": [
    "# Null Check\n",
    "train_data.isnull().sum()\n",
    "test_data.isnull().sum()\n",
    "val_data.isnull().sum()"
   ]
  },
  {
   "cell_type": "code",
   "execution_count": 4,
   "metadata": {
    "execution": {
     "iopub.execute_input": "2021-11-20T13:44:59.407434Z",
     "iopub.status.busy": "2021-11-20T13:44:59.406585Z",
     "iopub.status.idle": "2021-11-20T13:44:59.432662Z",
     "shell.execute_reply": "2021-11-20T13:44:59.432131Z"
    },
    "id": "geUnupErPFz2",
    "outputId": "2af4ba68-dc3b-4f9c-b1b8-fec87bdea82c",
    "papermill": {
     "duration": 0.057701,
     "end_time": "2021-11-20T13:44:59.432786",
     "exception": false,
     "start_time": "2021-11-20T13:44:59.375085",
     "status": "completed"
    },
    "tags": []
   },
   "outputs": [
    {
     "data": {
      "text/plain": [
       "(19999, 2)"
      ]
     },
     "execution_count": 4,
     "metadata": {},
     "output_type": "execute_result"
    }
   ],
   "source": [
    "df = df.drop_duplicates(keep=\"first\") # Drop duplicated data and reindex the data\n",
    "df_reidx = df.reset_index(drop=True)\n",
    "df_reidx.shape"
   ]
  },
  {
   "cell_type": "code",
   "execution_count": 5,
   "metadata": {
    "execution": {
     "iopub.execute_input": "2021-11-20T13:44:59.494538Z",
     "iopub.status.busy": "2021-11-20T13:44:59.493600Z",
     "iopub.status.idle": "2021-11-20T13:44:59.508063Z",
     "shell.execute_reply": "2021-11-20T13:44:59.507543Z"
    },
    "id": "K_Z9aL_vm5f9",
    "papermill": {
     "duration": 0.045985,
     "end_time": "2021-11-20T13:44:59.508209",
     "exception": false,
     "start_time": "2021-11-20T13:44:59.462224",
     "status": "completed"
    },
    "tags": []
   },
   "outputs": [],
   "source": [
    "# convert the emotions to binary labels. love and joy emotions are \"not-stressed ==1\", and sadness, anger, fear, and surprise are \"stressed == 0\".\n",
    "df_reidx['label']=df_reidx['emotion'].replace({'joy': \"not-stressed\" , 'love': \"not-stressed\", \n",
    "                                   'sadness': \"stressed\", 'anger': \"stressed\", 'fear': \"stressed\",'surprise': \"stressed\"})"
   ]
  },
  {
   "cell_type": "code",
   "execution_count": 6,
   "metadata": {
    "execution": {
     "iopub.execute_input": "2021-11-20T13:44:59.580038Z",
     "iopub.status.busy": "2021-11-20T13:44:59.579375Z",
     "iopub.status.idle": "2021-11-20T13:44:59.582120Z",
     "shell.execute_reply": "2021-11-20T13:44:59.582597Z"
    },
    "id": "jqlwmw4XbpjL",
    "outputId": "67edd2a9-240d-4f1b-9428-b6d14a5f9e84",
    "papermill": {
     "duration": 0.044311,
     "end_time": "2021-11-20T13:44:59.582761",
     "exception": false,
     "start_time": "2021-11-20T13:44:59.538450",
     "status": "completed"
    },
    "tags": []
   },
   "outputs": [
    {
     "data": {
      "text/plain": [
       "stressed        11598\n",
       "not-stressed     8401\n",
       "Name: label, dtype: int64"
      ]
     },
     "execution_count": 6,
     "metadata": {},
     "output_type": "execute_result"
    }
   ],
   "source": [
    "# check if pos and neg sentiments\n",
    "df_reidx.label.value_counts()"
   ]
  },
  {
   "cell_type": "code",
   "execution_count": 7,
   "metadata": {
    "execution": {
     "iopub.execute_input": "2021-11-20T13:44:59.658418Z",
     "iopub.status.busy": "2021-11-20T13:44:59.657559Z",
     "iopub.status.idle": "2021-11-20T13:44:59.667463Z",
     "shell.execute_reply": "2021-11-20T13:44:59.666922Z"
    },
    "id": "YjHjxw4LdIsg",
    "outputId": "56d50b13-a28f-460a-9288-ee030af8fc55",
    "papermill": {
     "duration": 0.055275,
     "end_time": "2021-11-20T13:44:59.667604",
     "exception": false,
     "start_time": "2021-11-20T13:44:59.612329",
     "status": "completed"
    },
    "tags": []
   },
   "outputs": [
    {
     "data": {
      "text/plain": [
       "count    19999.000000\n",
       "mean        96.671784\n",
       "std         55.778779\n",
       "min          7.000000\n",
       "25%         53.000000\n",
       "50%         86.000000\n",
       "75%        129.000000\n",
       "max        300.000000\n",
       "Name: length, dtype: float64"
      ]
     },
     "execution_count": 7,
     "metadata": {},
     "output_type": "execute_result"
    }
   ],
   "source": [
    "df_reidx['length'] = df_reidx['sentence'].apply(len) # number of characters\n",
    "df_reidx['length'].describe() # info()"
   ]
  },
  {
   "cell_type": "code",
   "execution_count": 8,
   "metadata": {
    "execution": {
     "iopub.execute_input": "2021-11-20T13:44:59.738465Z",
     "iopub.status.busy": "2021-11-20T13:44:59.737814Z",
     "iopub.status.idle": "2021-11-20T13:44:59.749397Z",
     "shell.execute_reply": "2021-11-20T13:44:59.749813Z"
    },
    "id": "zFlicA05VGAy",
    "outputId": "569bbab1-abb1-40e9-b9bf-caa472910c62",
    "papermill": {
     "duration": 0.048013,
     "end_time": "2021-11-20T13:44:59.749949",
     "exception": false,
     "start_time": "2021-11-20T13:44:59.701936",
     "status": "completed"
    },
    "tags": []
   },
   "outputs": [
    {
     "data": {
      "text/html": [
       "<div>\n",
       "<style scoped>\n",
       "    .dataframe tbody tr th:only-of-type {\n",
       "        vertical-align: middle;\n",
       "    }\n",
       "\n",
       "    .dataframe tbody tr th {\n",
       "        vertical-align: top;\n",
       "    }\n",
       "\n",
       "    .dataframe thead th {\n",
       "        text-align: right;\n",
       "    }\n",
       "</style>\n",
       "<table border=\"1\" class=\"dataframe\">\n",
       "  <thead>\n",
       "    <tr style=\"text-align: right;\">\n",
       "      <th></th>\n",
       "      <th>sentence</th>\n",
       "      <th>emotion</th>\n",
       "      <th>label</th>\n",
       "      <th>length</th>\n",
       "    </tr>\n",
       "  </thead>\n",
       "  <tbody>\n",
       "    <tr>\n",
       "      <th>19994</th>\n",
       "      <td>im having ssa examination tomorrow in the morn...</td>\n",
       "      <td>sadness</td>\n",
       "      <td>stressed</td>\n",
       "      <td>191</td>\n",
       "    </tr>\n",
       "    <tr>\n",
       "      <th>19995</th>\n",
       "      <td>i constantly worry about their fight against n...</td>\n",
       "      <td>joy</td>\n",
       "      <td>not-stressed</td>\n",
       "      <td>173</td>\n",
       "    </tr>\n",
       "    <tr>\n",
       "      <th>19996</th>\n",
       "      <td>i feel its important to share this info for th...</td>\n",
       "      <td>joy</td>\n",
       "      <td>not-stressed</td>\n",
       "      <td>80</td>\n",
       "    </tr>\n",
       "    <tr>\n",
       "      <th>19997</th>\n",
       "      <td>i truly feel that if you are passionate enough...</td>\n",
       "      <td>joy</td>\n",
       "      <td>not-stressed</td>\n",
       "      <td>105</td>\n",
       "    </tr>\n",
       "    <tr>\n",
       "      <th>19998</th>\n",
       "      <td>i feel like i just wanna buy any cute make up ...</td>\n",
       "      <td>joy</td>\n",
       "      <td>not-stressed</td>\n",
       "      <td>74</td>\n",
       "    </tr>\n",
       "  </tbody>\n",
       "</table>\n",
       "</div>"
      ],
      "text/plain": [
       "                                                sentence  emotion  \\\n",
       "19994  im having ssa examination tomorrow in the morn...  sadness   \n",
       "19995  i constantly worry about their fight against n...      joy   \n",
       "19996  i feel its important to share this info for th...      joy   \n",
       "19997  i truly feel that if you are passionate enough...      joy   \n",
       "19998  i feel like i just wanna buy any cute make up ...      joy   \n",
       "\n",
       "              label  length  \n",
       "19994      stressed     191  \n",
       "19995  not-stressed     173  \n",
       "19996  not-stressed      80  \n",
       "19997  not-stressed     105  \n",
       "19998  not-stressed      74  "
      ]
     },
     "execution_count": 8,
     "metadata": {},
     "output_type": "execute_result"
    }
   ],
   "source": [
    "df_reidx.tail()"
   ]
  },
  {
   "cell_type": "markdown",
   "metadata": {
    "id": "KptVLKp2dtfr",
    "papermill": {
     "duration": 0.029714,
     "end_time": "2021-11-20T13:44:59.810703",
     "exception": false,
     "start_time": "2021-11-20T13:44:59.780989",
     "status": "completed"
    },
    "tags": []
   },
   "source": [
    "# Text Preprocessing\n",
    "#### To clean the sentences,we do text preprocessing.\n",
    "*   Decontracted\n",
    "*   Data cleaning\n",
    "*   Spell check\n",
    "*   Lemmatization\n",
    "*   Nomalization"
   ]
  },
  {
   "cell_type": "code",
   "execution_count": 9,
   "metadata": {
    "execution": {
     "iopub.execute_input": "2021-11-20T13:44:59.886599Z",
     "iopub.status.busy": "2021-11-20T13:44:59.885965Z",
     "iopub.status.idle": "2021-11-20T13:45:05.772797Z",
     "shell.execute_reply": "2021-11-20T13:45:05.773256Z"
    },
    "id": "RTfGwvFpes_X",
    "outputId": "64ebe5dc-1ee7-4a5f-d8e8-8d148e60c036",
    "papermill": {
     "duration": 5.932414,
     "end_time": "2021-11-20T13:45:05.773411",
     "exception": false,
     "start_time": "2021-11-20T13:44:59.840997",
     "status": "completed"
    },
    "tags": []
   },
   "outputs": [
    {
     "name": "stderr",
     "output_type": "stream",
     "text": [
      "100%|██████████| 19999/19999 [00:05<00:00, 3507.30it/s]\n"
     ]
    },
    {
     "data": {
      "text/html": [
       "<div>\n",
       "<style scoped>\n",
       "    .dataframe tbody tr th:only-of-type {\n",
       "        vertical-align: middle;\n",
       "    }\n",
       "\n",
       "    .dataframe tbody tr th {\n",
       "        vertical-align: top;\n",
       "    }\n",
       "\n",
       "    .dataframe thead th {\n",
       "        text-align: right;\n",
       "    }\n",
       "</style>\n",
       "<table border=\"1\" class=\"dataframe\">\n",
       "  <thead>\n",
       "    <tr style=\"text-align: right;\">\n",
       "      <th></th>\n",
       "      <th>sentence</th>\n",
       "      <th>emotion</th>\n",
       "      <th>label</th>\n",
       "      <th>length</th>\n",
       "      <th>cleaned_sentence</th>\n",
       "    </tr>\n",
       "  </thead>\n",
       "  <tbody>\n",
       "    <tr>\n",
       "      <th>0</th>\n",
       "      <td>i didnt feel humiliated</td>\n",
       "      <td>sadness</td>\n",
       "      <td>stressed</td>\n",
       "      <td>23</td>\n",
       "      <td>i did not feel humiliated</td>\n",
       "    </tr>\n",
       "    <tr>\n",
       "      <th>1</th>\n",
       "      <td>i can go from feeling so hopeless to so damned...</td>\n",
       "      <td>sadness</td>\n",
       "      <td>stressed</td>\n",
       "      <td>108</td>\n",
       "      <td>i can go from feeling so hopeless to so damned...</td>\n",
       "    </tr>\n",
       "    <tr>\n",
       "      <th>2</th>\n",
       "      <td>im grabbing a minute to post i feel greedy wrong</td>\n",
       "      <td>anger</td>\n",
       "      <td>stressed</td>\n",
       "      <td>48</td>\n",
       "      <td>i am grabbing a minute to post i feel greedy w...</td>\n",
       "    </tr>\n",
       "    <tr>\n",
       "      <th>3</th>\n",
       "      <td>i am ever feeling nostalgic about the fireplac...</td>\n",
       "      <td>love</td>\n",
       "      <td>not-stressed</td>\n",
       "      <td>92</td>\n",
       "      <td>i am ever feeling nostalgic about the fireplac...</td>\n",
       "    </tr>\n",
       "    <tr>\n",
       "      <th>4</th>\n",
       "      <td>i am feeling grouchy</td>\n",
       "      <td>anger</td>\n",
       "      <td>stressed</td>\n",
       "      <td>20</td>\n",
       "      <td>i am feeling grouchy</td>\n",
       "    </tr>\n",
       "  </tbody>\n",
       "</table>\n",
       "</div>"
      ],
      "text/plain": [
       "                                            sentence  emotion         label  \\\n",
       "0                            i didnt feel humiliated  sadness      stressed   \n",
       "1  i can go from feeling so hopeless to so damned...  sadness      stressed   \n",
       "2   im grabbing a minute to post i feel greedy wrong    anger      stressed   \n",
       "3  i am ever feeling nostalgic about the fireplac...     love  not-stressed   \n",
       "4                               i am feeling grouchy    anger      stressed   \n",
       "\n",
       "   length                                   cleaned_sentence  \n",
       "0      23                          i did not feel humiliated  \n",
       "1     108  i can go from feeling so hopeless to so damned...  \n",
       "2      48  i am grabbing a minute to post i feel greedy w...  \n",
       "3      92  i am ever feeling nostalgic about the fireplac...  \n",
       "4      20                               i am feeling grouchy  "
      ]
     },
     "execution_count": 9,
     "metadata": {},
     "output_type": "execute_result"
    }
   ],
   "source": [
    "from tqdm import tqdm\n",
    "import re\n",
    "from bs4 import BeautifulSoup\n",
    "from nltk.stem import PorterStemmer\n",
    "from nltk.stem import WordNetLemmatizer\n",
    "\n",
    "def decontracted(phrase):\n",
    "    \"\"\"\n",
    "    We first define a function to expand the contracted phrase into normal words\n",
    "    \"\"\"\n",
    "    # specific\n",
    "    phrase = re.sub(r\"wont\", \"will not\", phrase)\n",
    "    phrase = re.sub(r\"wouldnt\", \"would not\", phrase)\n",
    "    phrase = re.sub(r\"shouldnt\", \"should not\", phrase)\n",
    "    phrase = re.sub(r\"couldnt\", \"could not\", phrase)\n",
    "    phrase = re.sub(r\"cudnt\", \"could not\", phrase)\n",
    "    phrase = re.sub(r\"cant\", \"can not\", phrase)\n",
    "    phrase = re.sub(r\"dont\", \"do not\", phrase)\n",
    "    phrase = re.sub(r\"doesnt\", \"does not\", phrase)\n",
    "    phrase = re.sub(r\"didnt\", \"did not\", phrase)\n",
    "    phrase = re.sub(r\"wasnt\", \"was not\", phrase)\n",
    "    phrase = re.sub(r\"werent\", \"were not\", phrase)\n",
    "    phrase = re.sub(r\"havent\", \"have not\", phrase)\n",
    "    phrase = re.sub(r\"hadnt\", \"had not\", phrase)\n",
    "\n",
    "    # general\n",
    "    phrase = re.sub(r\"n\\ t\", \" not\", phrase)\n",
    "    #phrase = re.sub(r\"\\re\", \" are\", phrase)\n",
    "    phrase = re.sub(r\"\\ s \", \" is \", phrase) # prime \n",
    "    phrase = re.sub(r\"\\ d \", \" would \", phrase)\n",
    "    phrase = re.sub(r\"\\ ll \", \" will \", phrase)\n",
    "    phrase = re.sub(r\"\\dunno\", \"do not \", phrase)\n",
    "    phrase = re.sub(r\"ive \", \"i have \", phrase)\n",
    "    phrase = re.sub(r\"im \", \"i am \", phrase)\n",
    "    phrase = re.sub(r\"i m \", \"i am \", phrase)\n",
    "    phrase = re.sub(r\" w \", \" with \", phrase)\n",
    "    \n",
    "    return phrase\n",
    "\n",
    "    \n",
    "def clean_text(df):\n",
    "    \"\"\"\n",
    "    Clean the review texts\n",
    "    \"\"\"\n",
    "    cleaned_review = []\n",
    "\n",
    "    for review_text in tqdm(df['sentence']):\n",
    "        \n",
    "        # expand the contracted words\n",
    "        review_text = decontracted(review_text)\n",
    "        #remove html tags\n",
    "        review_text = BeautifulSoup(review_text, 'lxml').get_text().strip() # re.sub(r'<.*?>', '', text)\n",
    "        \n",
    "        #remove non-alphabetic characters\n",
    "        review_text = re.sub(\"[^a-zA-Z]\",\" \", review_text)\n",
    "    \n",
    "        #remove url \n",
    "        review_text = re.sub(r'https?://\\S+|www\\.\\S+', '', review_text)\n",
    "        \n",
    "        #Removing punctutation, string.punctuation in python consists of !\"#$%&\\'()*+,-./:;<=>?@[\\\\]^_{|}~`\n",
    "        review_text = review_text.translate(str.maketrans('', '', string.punctuation))\n",
    "        # ''.join([char for char in movie_text_data if char not in string.punctuation])\n",
    "        \n",
    "        # remove emails\n",
    "        review_text = re.sub(r\"(^[a-zA-Z0-9_.+-]+@[a-zA-Z0-9-]+\\.[a-zA-Z0-9-.]+$)\", '', review_text)\n",
    "    \n",
    "        cleaned_review.append(review_text)\n",
    "\n",
    "    return cleaned_review  \n",
    "\n",
    "df_reidx['cleaned_sentence'] = clean_text(df_reidx)\n",
    "df_reidx.head()  "
   ]
  },
  {
   "cell_type": "markdown",
   "metadata": {
    "id": "NWRKxc1vECx0",
    "papermill": {
     "duration": 0.046244,
     "end_time": "2021-11-20T13:45:05.866408",
     "exception": false,
     "start_time": "2021-11-20T13:45:05.820164",
     "status": "completed"
    },
    "tags": []
   },
   "source": [
    "###### additional lemmatization"
   ]
  },
  {
   "cell_type": "code",
   "execution_count": 10,
   "metadata": {
    "execution": {
     "iopub.execute_input": "2021-11-20T13:45:06.020868Z",
     "iopub.status.busy": "2021-11-20T13:45:06.020253Z",
     "iopub.status.idle": "2021-11-20T13:45:31.425903Z",
     "shell.execute_reply": "2021-11-20T13:45:31.426543Z"
    },
    "id": "sNgR75EbVGA1",
    "outputId": "e709836d-3e3c-4b17-d20f-b5828b0f9891",
    "papermill": {
     "duration": 25.513714,
     "end_time": "2021-11-20T13:45:31.426716",
     "exception": false,
     "start_time": "2021-11-20T13:45:05.913002",
     "status": "completed"
    },
    "tags": []
   },
   "outputs": [
    {
     "name": "stdout",
     "output_type": "stream",
     "text": [
      "[nltk_data] Error loading punkt: <urlopen error [Errno -3] Temporary\n",
      "[nltk_data]     failure in name resolution>\n"
     ]
    },
    {
     "name": "stderr",
     "output_type": "stream",
     "text": [
      "100%|██████████| 19999/19999 [00:05<00:00, 3742.51it/s]\n"
     ]
    },
    {
     "data": {
      "text/html": [
       "<div>\n",
       "<style scoped>\n",
       "    .dataframe tbody tr th:only-of-type {\n",
       "        vertical-align: middle;\n",
       "    }\n",
       "\n",
       "    .dataframe tbody tr th {\n",
       "        vertical-align: top;\n",
       "    }\n",
       "\n",
       "    .dataframe thead th {\n",
       "        text-align: right;\n",
       "    }\n",
       "</style>\n",
       "<table border=\"1\" class=\"dataframe\">\n",
       "  <thead>\n",
       "    <tr style=\"text-align: right;\">\n",
       "      <th></th>\n",
       "      <th>sentence</th>\n",
       "      <th>emotion</th>\n",
       "      <th>label</th>\n",
       "      <th>length</th>\n",
       "      <th>cleaned_sentence</th>\n",
       "    </tr>\n",
       "  </thead>\n",
       "  <tbody>\n",
       "    <tr>\n",
       "      <th>0</th>\n",
       "      <td>i didnt feel humiliated</td>\n",
       "      <td>sadness</td>\n",
       "      <td>stressed</td>\n",
       "      <td>23</td>\n",
       "      <td>[feel, humiliated]</td>\n",
       "    </tr>\n",
       "    <tr>\n",
       "      <th>1</th>\n",
       "      <td>i can go from feeling so hopeless to so damned...</td>\n",
       "      <td>sadness</td>\n",
       "      <td>stressed</td>\n",
       "      <td>108</td>\n",
       "      <td>[go, feeling, hopeless, damned, hopeful, aroun...</td>\n",
       "    </tr>\n",
       "    <tr>\n",
       "      <th>2</th>\n",
       "      <td>im grabbing a minute to post i feel greedy wrong</td>\n",
       "      <td>anger</td>\n",
       "      <td>stressed</td>\n",
       "      <td>48</td>\n",
       "      <td>[grabbing, minute, post, feel, greedy, wrong]</td>\n",
       "    </tr>\n",
       "    <tr>\n",
       "      <th>3</th>\n",
       "      <td>i am ever feeling nostalgic about the fireplac...</td>\n",
       "      <td>love</td>\n",
       "      <td>not-stressed</td>\n",
       "      <td>92</td>\n",
       "      <td>[ever, feeling, nostalgic, fireplace, know, st...</td>\n",
       "    </tr>\n",
       "    <tr>\n",
       "      <th>4</th>\n",
       "      <td>i am feeling grouchy</td>\n",
       "      <td>anger</td>\n",
       "      <td>stressed</td>\n",
       "      <td>20</td>\n",
       "      <td>[feeling, grouchy]</td>\n",
       "    </tr>\n",
       "  </tbody>\n",
       "</table>\n",
       "</div>"
      ],
      "text/plain": [
       "                                            sentence  emotion         label  \\\n",
       "0                            i didnt feel humiliated  sadness      stressed   \n",
       "1  i can go from feeling so hopeless to so damned...  sadness      stressed   \n",
       "2   im grabbing a minute to post i feel greedy wrong    anger      stressed   \n",
       "3  i am ever feeling nostalgic about the fireplac...     love  not-stressed   \n",
       "4                               i am feeling grouchy    anger      stressed   \n",
       "\n",
       "   length                                   cleaned_sentence  \n",
       "0      23                                 [feel, humiliated]  \n",
       "1     108  [go, feeling, hopeless, damned, hopeful, aroun...  \n",
       "2      48      [grabbing, minute, post, feel, greedy, wrong]  \n",
       "3      92  [ever, feeling, nostalgic, fireplace, know, st...  \n",
       "4      20                                 [feeling, grouchy]  "
      ]
     },
     "execution_count": 10,
     "metadata": {},
     "output_type": "execute_result"
    }
   ],
   "source": [
    "import nltk\n",
    "nltk.download('punkt')\n",
    "def remove_stopwords(phrase):\n",
    "    remove_sw = []\n",
    "    tokenizer = RegexpTokenizer(r'[a-zA-Z0-9]+')\n",
    "    stop_words = stopwords.words('english')\n",
    "    \n",
    "    for review_text in tqdm(phrase):\n",
    "        tokens = word_tokenize(review_text)\n",
    "        tokens = [word for word in tokens if not word in stop_words]\n",
    "        remove_sw.append(tokens)\n",
    "    return remove_sw\n",
    "\n",
    "df_reidx['cleaned_sentence'] = remove_stopwords(df_reidx['cleaned_sentence'])\n",
    "df_reidx.head()"
   ]
  },
  {
   "cell_type": "code",
   "execution_count": 11,
   "metadata": {
    "execution": {
     "iopub.execute_input": "2021-11-20T13:45:31.561596Z",
     "iopub.status.busy": "2021-11-20T13:45:31.560590Z",
     "iopub.status.idle": "2021-11-20T13:45:37.446380Z",
     "shell.execute_reply": "2021-11-20T13:45:37.445734Z"
    },
    "id": "UdFbKacIgGU_",
    "outputId": "0c231497-0676-4ef7-85a8-7347db660979",
    "papermill": {
     "duration": 5.956573,
     "end_time": "2021-11-20T13:45:37.446574",
     "exception": false,
     "start_time": "2021-11-20T13:45:31.490001",
     "status": "completed"
    },
    "tags": []
   },
   "outputs": [
    {
     "name": "stderr",
     "output_type": "stream",
     "text": [
      "100%|██████████| 19999/19999 [00:05<00:00, 3420.42it/s]\n"
     ]
    },
    {
     "data": {
      "text/plain": [
       "0                                       [feel, humili]\n",
       "1    [go, feel, hopeless, damn, hope, around, someo...\n",
       "2             [grab, minut, post, feel, greedi, wrong]\n",
       "3    [ever, feel, nostalg, fireplac, know, still, n...\n",
       "4                                      [feel, grouchi]\n",
       "Name: cleaned_sentence, dtype: object"
      ]
     },
     "execution_count": 11,
     "metadata": {},
     "output_type": "execute_result"
    }
   ],
   "source": [
    "#stemming for extract the actual meaning of the words\n",
    "from nltk.stem import PorterStemmer\n",
    "\n",
    "def stemming(phrase):\n",
    "    stemmer = PorterStemmer()\n",
    "    stem_output=[]\n",
    "    stemmed=[]\n",
    "    for review_text in tqdm(phrase):\n",
    "        stemmed = [stemmer.stem(word) for word in review_text]\n",
    "        stem_output.append(stemmed)\n",
    "    return stem_output\n",
    "\n",
    "df_reidx['cleaned_sentence'] = stemming(df_reidx['cleaned_sentence'])\n",
    "df_reidx['cleaned_sentence'].head()"
   ]
  },
  {
   "cell_type": "code",
   "execution_count": 12,
   "metadata": {
    "execution": {
     "iopub.execute_input": "2021-11-20T13:45:37.609342Z",
     "iopub.status.busy": "2021-11-20T13:45:37.608433Z",
     "iopub.status.idle": "2021-11-20T13:45:37.654910Z",
     "shell.execute_reply": "2021-11-20T13:45:37.655411Z"
    },
    "id": "zDHtFBENVGA1",
    "outputId": "327594ed-2590-4b3d-cfe8-4fa0af0bb357",
    "papermill": {
     "duration": 0.127673,
     "end_time": "2021-11-20T13:45:37.655585",
     "exception": false,
     "start_time": "2021-11-20T13:45:37.527912",
     "status": "completed"
    },
    "tags": []
   },
   "outputs": [
    {
     "name": "stderr",
     "output_type": "stream",
     "text": [
      "100%|██████████| 19999/19999 [00:00<00:00, 740934.06it/s]\n"
     ]
    },
    {
     "data": {
      "text/plain": [
       "0                                          feel humili\n",
       "1    go feel hopeless damn hope around someon care ...\n",
       "2                    grab minut post feel greedi wrong\n",
       "3    ever feel nostalg fireplac know still noth pro...\n",
       "4                                         feel grouchi\n",
       "Name: cleaned_sentence, dtype: object"
      ]
     },
     "execution_count": 12,
     "metadata": {},
     "output_type": "execute_result"
    }
   ],
   "source": [
    "def to_sentence(phrase):\n",
    "    sentence=[]\n",
    "    for words in tqdm(phrase):\n",
    "        sentence.append((\" \").join(words))\n",
    "    return sentence\n",
    "df_reidx['cleaned_sentence']=to_sentence(df_reidx['cleaned_sentence'])\n",
    "df_reidx['cleaned_sentence'].head()"
   ]
  },
  {
   "cell_type": "markdown",
   "metadata": {
    "id": "tt6Tbl3xlBhE",
    "papermill": {
     "duration": 0.080413,
     "end_time": "2021-11-20T13:45:37.820499",
     "exception": false,
     "start_time": "2021-11-20T13:45:37.740086",
     "status": "completed"
    },
    "tags": []
   },
   "source": [
    "# Feature Engineering"
   ]
  },
  {
   "cell_type": "markdown",
   "metadata": {
    "id": "Ln-1lwjhlfS7",
    "papermill": {
     "duration": 0.079507,
     "end_time": "2021-11-20T13:45:37.980688",
     "exception": false,
     "start_time": "2021-11-20T13:45:37.901181",
     "status": "completed"
    },
    "tags": []
   },
   "source": [
    "### CounterVectorize: tokenization: "
   ]
  },
  {
   "cell_type": "code",
   "execution_count": 13,
   "metadata": {
    "execution": {
     "iopub.execute_input": "2021-11-20T13:45:38.166727Z",
     "iopub.status.busy": "2021-11-20T13:45:38.151176Z",
     "iopub.status.idle": "2021-11-20T13:45:38.433250Z",
     "shell.execute_reply": "2021-11-20T13:45:38.433714Z"
    },
    "id": "jT3nRcj9v-mL",
    "outputId": "ed5e8c98-798d-46a7-e9dc-77946552e3c4",
    "papermill": {
     "duration": 0.372144,
     "end_time": "2021-11-20T13:45:38.433864",
     "exception": false,
     "start_time": "2021-11-20T13:45:38.061720",
     "status": "completed"
    },
    "tags": []
   },
   "outputs": [
    {
     "name": "stdout",
     "output_type": "stream",
     "text": [
      "X.shape :  (19999, 4374)\n",
      "y.shape :  (19999,)\n"
     ]
    }
   ],
   "source": [
    "# convert the cleaned sentences to vectors\n",
    "token = RegexpTokenizer(r'[a-zA-Z0-9]+')\n",
    "# a built-in stop word list for english is used\n",
    "# all values of n such than min_n<=n<= max_n will be used. (1,1): only unigrams, (1,2):uni&bigram, (2,2): only bigrams\n",
    "# max_df: when building the vocabulary, ignore terms that have a document frequency strictly higher than the given threshold.\n",
    "# min_df: ignore terms that have a document frequency strictly lower than the given threshold.\n",
    "\n",
    "vectorizer = CountVectorizer(stop_words='english', max_df=0.5, min_df=3, ngram_range=(1,1),tokenizer = token.tokenize)\n",
    "x = vectorizer.fit_transform(df_reidx.cleaned_sentence)\n",
    "y = df_reidx.label.values\n",
    "\n",
    "print(\"X.shape : \",x.shape)\n",
    "print(\"y.shape : \",y.shape)"
   ]
  },
  {
   "cell_type": "markdown",
   "metadata": {
    "id": "l1kNPsDNm_f4",
    "papermill": {
     "duration": 0.082739,
     "end_time": "2021-11-20T13:45:38.598300",
     "exception": false,
     "start_time": "2021-11-20T13:45:38.515561",
     "status": "completed"
    },
    "tags": []
   },
   "source": [
    "# Train Test split"
   ]
  },
  {
   "cell_type": "code",
   "execution_count": 14,
   "metadata": {
    "execution": {
     "iopub.execute_input": "2021-11-20T13:45:38.769288Z",
     "iopub.status.busy": "2021-11-20T13:45:38.768622Z",
     "iopub.status.idle": "2021-11-20T13:45:38.778142Z",
     "shell.execute_reply": "2021-11-20T13:45:38.777436Z"
    },
    "id": "OqtP1s3WnOEj",
    "outputId": "a541305b-9d77-45e8-cd63-f62f9c0a44b4",
    "papermill": {
     "duration": 0.101302,
     "end_time": "2021-11-20T13:45:38.778320",
     "exception": false,
     "start_time": "2021-11-20T13:45:38.677018",
     "status": "completed"
    },
    "tags": []
   },
   "outputs": [
    {
     "name": "stdout",
     "output_type": "stream",
     "text": [
      "Number of training examples:13999\n",
      "Number of testing examples:6000\n",
      "\n",
      "Training data: X_train : (13999, 4374), y_train : (13999,)\n",
      "Testing data: X_test : (6000, 4374), y_test : (6000,)\n"
     ]
    }
   ],
   "source": [
    "# do shuffle to make neg and pos data of data set split equaly in the test and training set\n",
    "# do random_sate for making it settle when we run this code repeatedly\n",
    "train_idx, test_idx = train_test_split(np.arange(df_reidx.shape[0]), test_size=0.3,shuffle=True, random_state=42)\n",
    "\n",
    "x_train = x[train_idx]\n",
    "y_train = y[train_idx]\n",
    "\n",
    "x_test = x[test_idx]\n",
    "y_test = y[test_idx]\n",
    "print(\"Number of training examples:{}\".format(len(train_idx)))\n",
    "print(\"Number of testing examples:{}\\n\".format(len(test_idx)))\n",
    "print(\"Training data: X_train : {}, y_train : {}\".format(x_train.shape, y_train.shape))\n",
    "print(\"Testing data: X_test : {}, y_test : {}\".format(x_test.shape, y_test.shape))\n"
   ]
  },
  {
   "cell_type": "code",
   "execution_count": 15,
   "metadata": {
    "execution": {
     "iopub.execute_input": "2021-11-20T13:45:38.946845Z",
     "iopub.status.busy": "2021-11-20T13:45:38.946025Z",
     "iopub.status.idle": "2021-11-20T13:45:38.948886Z",
     "shell.execute_reply": "2021-11-20T13:45:38.949424Z"
    },
    "id": "v1YE9wUuVGA3",
    "outputId": "c6a48ec2-bccf-4caa-986d-f9e88c562c51",
    "papermill": {
     "duration": 0.088267,
     "end_time": "2021-11-20T13:45:38.949563",
     "exception": false,
     "start_time": "2021-11-20T13:45:38.861296",
     "status": "completed"
    },
    "tags": []
   },
   "outputs": [
    {
     "data": {
      "text/plain": [
       "(13999, 4374)"
      ]
     },
     "execution_count": 15,
     "metadata": {},
     "output_type": "execute_result"
    }
   ],
   "source": [
    "x_train.shape"
   ]
  },
  {
   "cell_type": "markdown",
   "metadata": {
    "id": "m1fK2NLdzysQ",
    "papermill": {
     "duration": 0.081771,
     "end_time": "2021-11-20T13:45:39.111693",
     "exception": false,
     "start_time": "2021-11-20T13:45:39.029922",
     "status": "completed"
    },
    "tags": []
   },
   "source": [
    "# Model Training"
   ]
  },
  {
   "cell_type": "markdown",
   "metadata": {
    "id": "Dwtb2azVm2U8",
    "papermill": {
     "duration": 0.082548,
     "end_time": "2021-11-20T13:45:39.275693",
     "exception": false,
     "start_time": "2021-11-20T13:45:39.193145",
     "status": "completed"
    },
    "tags": []
   },
   "source": [
    "#### Logistic Regression"
   ]
  },
  {
   "cell_type": "code",
   "execution_count": 16,
   "metadata": {
    "execution": {
     "iopub.execute_input": "2021-11-20T13:45:39.448083Z",
     "iopub.status.busy": "2021-11-20T13:45:39.447183Z",
     "iopub.status.idle": "2021-11-20T13:45:40.300298Z",
     "shell.execute_reply": "2021-11-20T13:45:40.300724Z"
    },
    "id": "2gfpybeIm7NX",
    "outputId": "fe4b4dfa-3e87-4af9-e135-125300b33f24",
    "papermill": {
     "duration": 0.940292,
     "end_time": "2021-11-20T13:45:40.300892",
     "exception": false,
     "start_time": "2021-11-20T13:45:39.360600",
     "status": "completed"
    },
    "tags": []
   },
   "outputs": [
    {
     "name": "stdout",
     "output_type": "stream",
     "text": [
      "              precision    recall  f1-score   support\n",
      "\n",
      "not-stressed       0.95      0.93      0.94      2491\n",
      "    stressed       0.95      0.96      0.96      3509\n",
      "\n",
      "    accuracy                           0.95      6000\n",
      "   macro avg       0.95      0.95      0.95      6000\n",
      "weighted avg       0.95      0.95      0.95      6000\n",
      "\n",
      "\n",
      "Accuracy for Logistic Regression model: 0.9486666666666667\n",
      "\n",
      "\n"
     ]
    },
    {
     "data": {
      "image/png": "[encoded data removed]",
      "text/plain": [
       "<Figure size 432x288 with 2 Axes>"
      ]
     },
     "metadata": {
      "needs_background": "light"
     },
     "output_type": "display_data"
    }
   ],
   "source": [
    "# fit a logistic regression classifier on the training data use default settings\n",
    "lr_clf = LogisticRegression()\n",
    "lr_clf.fit(x_train, y_train)\n",
    "\n",
    "# make prediction on testing data\n",
    "y_pred_test_lr = lr_clf.predict(x_test)\n",
    "y_predprob_lr = lr_clf.predict_proba(x_test)\n",
    "matrix_lr = confusion_matrix(y_test,y_pred_test_lr)\n",
    "print(classification_report(y_test, y_pred_test_lr))\n",
    "print(\"\\nAccuracy for Logistic Regression model:\",metrics.accuracy_score(y_test, y_pred_test_lr))\n",
    "print(\"\\n\")\n",
    "y_predict = lr_clf.predict(x_test)\n",
    "matrix_display = ConfusionMatrixDisplay(matrix_lr).plot()"
   ]
  },
  {
   "cell_type": "markdown",
   "metadata": {
    "id": "IdXsV5VK78nt",
    "papermill": {
     "duration": 0.084445,
     "end_time": "2021-11-20T13:45:40.470813",
     "exception": false,
     "start_time": "2021-11-20T13:45:40.386368",
     "status": "completed"
    },
    "tags": []
   },
   "source": [
    "\n",
    "\n",
    "#### Naive Bayes classifier"
   ]
  },
  {
   "cell_type": "markdown",
   "metadata": {
    "id": "-nRFJAe3opBp",
    "papermill": {
     "duration": 0.080639,
     "end_time": "2021-11-20T13:45:40.635587",
     "exception": false,
     "start_time": "2021-11-20T13:45:40.554948",
     "status": "completed"
    },
    "tags": []
   },
   "source": [
    "##### BernouliNB\n",
    "\n",
    "A binary algorithm used when the feature is present or not."
   ]
  },
  {
   "cell_type": "code",
   "execution_count": 17,
   "metadata": {
    "execution": {
     "iopub.execute_input": "2021-11-20T13:45:40.810753Z",
     "iopub.status.busy": "2021-11-20T13:45:40.809800Z",
     "iopub.status.idle": "2021-11-20T13:45:41.413695Z",
     "shell.execute_reply": "2021-11-20T13:45:41.414139Z"
    },
    "id": "wLfvVX1_77P7",
    "outputId": "ffb572de-d25a-452c-9229-b2dab6060020",
    "papermill": {
     "duration": 0.696556,
     "end_time": "2021-11-20T13:45:41.414311",
     "exception": false,
     "start_time": "2021-11-20T13:45:40.717755",
     "status": "completed"
    },
    "tags": []
   },
   "outputs": [
    {
     "name": "stdout",
     "output_type": "stream",
     "text": [
      "              precision    recall  f1-score   support\n",
      "\n",
      "not-stressed       0.92      0.88      0.90      2491\n",
      "    stressed       0.92      0.94      0.93      3509\n",
      "\n",
      "    accuracy                           0.92      6000\n",
      "   macro avg       0.92      0.91      0.92      6000\n",
      "weighted avg       0.92      0.92      0.92      6000\n",
      "\n",
      "\n",
      "Accuracy for Bernouli Naive Bayes model: 0.9188333333333333\n",
      "\n",
      "\n"
     ]
    },
    {
     "data": {
      "image/png": "[encoded data removed]",
      "text/plain": [
       "<Figure size 432x288 with 2 Axes>"
      ]
     },
     "metadata": {
      "needs_background": "light"
     },
     "output_type": "display_data"
    }
   ],
   "source": [
    "from sklearn.naive_bayes import BernoulliNB\n",
    "nb_clf = BernoulliNB()\n",
    "nb_clf.fit(x_train, y_train)\n",
    "# make prediction on testing data\n",
    "y_pred_test_nb = nb_clf.predict(x_test)\n",
    "y_predprob_nb = nb_clf.predict_proba(x_test)\n",
    "matrix_nb = confusion_matrix(y_test,y_pred_test_nb)\n",
    "print(classification_report(y_test, y_pred_test_nb))\n",
    "print(\"\\nAccuracy for Bernouli Naive Bayes model:\",metrics.accuracy_score(y_test, y_pred_test_nb))\n",
    "print(\"\\n\")\n",
    "matrix_display = ConfusionMatrixDisplay(matrix_nb).plot()"
   ]
  },
  {
   "cell_type": "markdown",
   "metadata": {
    "id": "i_3y0arSokl1",
    "papermill": {
     "duration": 0.086795,
     "end_time": "2021-11-20T13:45:41.586585",
     "exception": false,
     "start_time": "2021-11-20T13:45:41.499790",
     "status": "completed"
    },
    "tags": []
   },
   "source": [
    "##### MultinominaliNB\n",
    "\n",
    "It consider a feature vector where a given term represents the number of times it appears or very ofen, such as frequency."
   ]
  },
  {
   "cell_type": "code",
   "execution_count": 18,
   "metadata": {
    "execution": {
     "iopub.execute_input": "2021-11-20T13:45:41.811123Z",
     "iopub.status.busy": "2021-11-20T13:45:41.809243Z",
     "iopub.status.idle": "2021-11-20T13:45:42.377946Z",
     "shell.execute_reply": "2021-11-20T13:45:42.377089Z"
    },
    "id": "0szXmLlOphy3",
    "outputId": "819ac2ab-ddf0-4b63-99b1-f108e41ad6c6",
    "papermill": {
     "duration": 0.708798,
     "end_time": "2021-11-20T13:45:42.378105",
     "exception": false,
     "start_time": "2021-11-20T13:45:41.669307",
     "status": "completed"
    },
    "tags": []
   },
   "outputs": [
    {
     "name": "stdout",
     "output_type": "stream",
     "text": [
      "              precision    recall  f1-score   support\n",
      "\n",
      "not-stressed       0.93      0.90      0.91      2491\n",
      "    stressed       0.93      0.95      0.94      3509\n",
      "\n",
      "    accuracy                           0.93      6000\n",
      "   macro avg       0.93      0.92      0.93      6000\n",
      "weighted avg       0.93      0.93      0.93      6000\n",
      "\n",
      "\n",
      "Accuracy for multinominal Naive Bayes model: 0.9291666666666667\n",
      "\n",
      "\n"
     ]
    },
    {
     "data": {
      "image/png": "[encoded data removed]",
      "text/plain": [
       "<Figure size 432x288 with 2 Axes>"
      ]
     },
     "metadata": {
      "needs_background": "light"
     },
     "output_type": "display_data"
    }
   ],
   "source": [
    "mnb = MultinomialNB()\n",
    "mnb.fit(x_train, y_train)\n",
    "# make prediction on testing data\n",
    "y_pred_test_mnb = mnb.predict(x_test)\n",
    "y_predprob_mnb = mnb.predict_proba(x_test)\n",
    "matrix = confusion_matrix(y_test,y_pred_test_mnb)\n",
    "print(classification_report(y_test, y_pred_test_mnb))\n",
    "print(\"\\nAccuracy for multinominal Naive Bayes model:\",metrics.accuracy_score(y_test, y_pred_test_mnb))\n",
    "print(\"\\n\")\n",
    "\n",
    "y_predict = mnb.predict(x_test)\n",
    "cm = confusion_matrix(y_test, y_predict)\n",
    "cm_display = ConfusionMatrixDisplay(cm).plot()"
   ]
  },
  {
   "cell_type": "markdown",
   "metadata": {
    "id": "rivuHvYu3FM-",
    "papermill": {
     "duration": 0.085823,
     "end_time": "2021-11-20T13:45:42.549824",
     "exception": false,
     "start_time": "2021-11-20T13:45:42.464001",
     "status": "completed"
    },
    "tags": []
   },
   "source": [
    "# Cross validataion"
   ]
  },
  {
   "cell_type": "code",
   "execution_count": 19,
   "metadata": {
    "execution": {
     "iopub.execute_input": "2021-11-20T13:45:42.811181Z",
     "iopub.status.busy": "2021-11-20T13:45:42.734972Z",
     "iopub.status.idle": "2021-11-20T13:45:42.987885Z",
     "shell.execute_reply": "2021-11-20T13:45:42.989089Z"
    },
    "id": "kO0UOIPNnsaZ",
    "outputId": "94f24074-f6ce-4c0f-a012-8a555d4a10bc",
    "papermill": {
     "duration": 0.352043,
     "end_time": "2021-11-20T13:45:42.989420",
     "exception": false,
     "start_time": "2021-11-20T13:45:42.637377",
     "status": "completed"
    },
    "tags": []
   },
   "outputs": [
    {
     "name": "stdout",
     "output_type": "stream",
     "text": [
      "Logistic Regression Model\n",
      "\n",
      "Accuracy: 94.87%\n",
      "Precision: 94.82%\n",
      "Recall: 94.60%\n",
      "F1 Score:  0.9159408365025967\n",
      "[[2317  174]\n",
      " [ 134 3375]]\n"
     ]
    }
   ],
   "source": [
    "acc_score_lr = metrics.accuracy_score(y_pred_test_lr,y_test)\n",
    "prec_score_lr = precision_score(y_test,y_pred_test_lr, average='macro')\n",
    "recall_lr = recall_score(y_test, y_pred_test_lr,average='macro')\n",
    "f1_lr = f1_score(y_test,y_pred_test_nb,average='macro')\n",
    "matrix_lr = confusion_matrix(y_test,y_pred_test_lr)\n",
    "print('Logistic Regression Model\\n')\n",
    "print(str('Accuracy: '+'{:04.2f}'.format(acc_score_lr*100))+'%')\n",
    "print(str('Precision: '+'{:04.2f}'.format(prec_score_lr*100))+'%')\n",
    "print(str('Recall: '+'{:04.2f}'.format(recall_lr*100))+'%')\n",
    "print('F1 Score: ',f1_lr)\n",
    "print(matrix_lr)"
   ]
  },
  {
   "cell_type": "markdown",
   "metadata": {
    "id": "av7z4Hnzn_aw",
    "papermill": {
     "duration": 0.087398,
     "end_time": "2021-11-20T13:45:43.170523",
     "exception": false,
     "start_time": "2021-11-20T13:45:43.083125",
     "status": "completed"
    },
    "tags": []
   },
   "source": [
    "##### BernouliNB"
   ]
  },
  {
   "cell_type": "code",
   "execution_count": 20,
   "metadata": {
    "execution": {
     "iopub.execute_input": "2021-11-20T13:45:43.354530Z",
     "iopub.status.busy": "2021-11-20T13:45:43.353661Z",
     "iopub.status.idle": "2021-11-20T13:45:43.579865Z",
     "shell.execute_reply": "2021-11-20T13:45:43.579190Z"
    },
    "id": "BL4jUTnHwQAA",
    "outputId": "b1360869-33f6-4fce-af51-b3078a7949e0",
    "papermill": {
     "duration": 0.320283,
     "end_time": "2021-11-20T13:45:43.580046",
     "exception": false,
     "start_time": "2021-11-20T13:45:43.259763",
     "status": "completed"
    },
    "tags": []
   },
   "outputs": [
    {
     "name": "stdout",
     "output_type": "stream",
     "text": [
      "Bernouli Naive Bayes Model\n",
      "\n",
      "Accuracy: 91.88%\n",
      "Precision: 91.87%\n",
      "Recall: 91.37%\n",
      "F1 Score:  0.9159408365025967\n",
      "[[2200  291]\n",
      " [ 196 3313]]\n"
     ]
    }
   ],
   "source": [
    "acc_score_nb = metrics.accuracy_score(y_pred_test_nb,y_test)\n",
    "prec_score_nb = precision_score(y_test,y_pred_test_nb, average='macro')\n",
    "recall_nb = recall_score(y_test, y_pred_test_nb,average='macro')\n",
    "f1_nb = f1_score(y_test,y_pred_test_nb,average='macro')\n",
    "matrix_nb = confusion_matrix(y_test,y_pred_test_nb)\n",
    "print('Bernouli Naive Bayes Model\\n')\n",
    "print(str('Accuracy: '+'{:04.2f}'.format(acc_score_nb*100))+'%')\n",
    "print(str('Precision: '+'{:04.2f}'.format(prec_score_nb*100))+'%')\n",
    "print(str('Recall: '+'{:04.2f}'.format(recall_nb*100))+'%')\n",
    "print('F1 Score: ',f1_nb)\n",
    "print(matrix_nb)"
   ]
  },
  {
   "cell_type": "markdown",
   "metadata": {
    "id": "0_SSgCmHoX3p",
    "papermill": {
     "duration": 0.090469,
     "end_time": "2021-11-20T13:45:43.763264",
     "exception": false,
     "start_time": "2021-11-20T13:45:43.672795",
     "status": "completed"
    },
    "tags": []
   },
   "source": [
    "##### MultinominaliNB"
   ]
  },
  {
   "cell_type": "code",
   "execution_count": 21,
   "metadata": {
    "execution": {
     "iopub.execute_input": "2021-11-20T13:45:43.953699Z",
     "iopub.status.busy": "2021-11-20T13:45:43.952753Z",
     "iopub.status.idle": "2021-11-20T13:45:44.178460Z",
     "shell.execute_reply": "2021-11-20T13:45:44.178939Z"
    },
    "id": "nwGHeF5Xv60e",
    "outputId": "66e10535-dcf9-45cc-ab8b-57065cba8bbb",
    "papermill": {
     "duration": 0.323687,
     "end_time": "2021-11-20T13:45:44.179101",
     "exception": false,
     "start_time": "2021-11-20T13:45:43.855414",
     "status": "completed"
    },
    "tags": []
   },
   "outputs": [
    {
     "name": "stdout",
     "output_type": "stream",
     "text": [
      "Multimominal Naive Bayes Model\n",
      "\n",
      "Accuracy: 92.92%\n",
      "Precision: 92.93%\n",
      "Recall: 92.45%\n",
      "F1 Score:  0.9266705125826067\n",
      "[[2234  257]\n",
      " [ 168 3341]]\n"
     ]
    }
   ],
   "source": [
    "acc_score_mnb = metrics.accuracy_score(y_pred_test_mnb,y_test)\n",
    "prec_score_mnb = precision_score(y_test,y_pred_test_mnb, average='macro')\n",
    "recall_mnb = recall_score(y_test, y_pred_test_mnb,average='macro')\n",
    "f1_mnb = f1_score(y_test,y_pred_test_mnb,average='macro')\n",
    "matrix_mnb = confusion_matrix(y_test,y_pred_test_mnb)\n",
    "print('Multimominal Naive Bayes Model\\n')\n",
    "print(str('Accuracy: '+'{:04.2f}'.format(acc_score_mnb*100))+'%')\n",
    "print(str('Precision: '+'{:04.2f}'.format(prec_score_mnb*100))+'%')\n",
    "print(str('Recall: '+'{:04.2f}'.format(recall_mnb*100))+'%')\n",
    "print('F1 Score: ',f1_mnb)\n",
    "print(matrix_mnb)"
   ]
  },
  {
   "cell_type": "markdown",
   "metadata": {
    "id": "SYMdylft3xEx",
    "papermill": {
     "duration": 0.089765,
     "end_time": "2021-11-20T13:45:44.358941",
     "exception": false,
     "start_time": "2021-11-20T13:45:44.269176",
     "status": "completed"
    },
    "tags": []
   },
   "source": [
    "# Explain the model prediction"
   ]
  },
  {
   "cell_type": "markdown",
   "metadata": {
    "id": "35GU2wpCwukP",
    "papermill": {
     "duration": 0.090982,
     "end_time": "2021-11-20T13:45:44.539923",
     "exception": false,
     "start_time": "2021-11-20T13:45:44.448941",
     "status": "completed"
    },
    "tags": []
   },
   "source": [
    "Multimominal Naive Bayes Model has higher accuracy than Bernouli Naive Bayes Model."
   ]
  },
  {
   "cell_type": "code",
   "execution_count": 22,
   "metadata": {
    "execution": {
     "iopub.execute_input": "2021-11-20T13:45:44.722916Z",
     "iopub.status.busy": "2021-11-20T13:45:44.721926Z",
     "iopub.status.idle": "2021-11-20T13:45:44.737307Z",
     "shell.execute_reply": "2021-11-20T13:45:44.736727Z"
    },
    "id": "Y-Td0j-j3zyl",
    "outputId": "f724d70f-5e11-4f12-8e57-d20d089fc724",
    "papermill": {
     "duration": 0.108264,
     "end_time": "2021-11-20T13:45:44.737450",
     "exception": false,
     "start_time": "2021-11-20T13:45:44.629186",
     "status": "completed"
    },
    "tags": []
   },
   "outputs": [
    {
     "data": {
      "text/html": [
       "<div>\n",
       "<style scoped>\n",
       "    .dataframe tbody tr th:only-of-type {\n",
       "        vertical-align: middle;\n",
       "    }\n",
       "\n",
       "    .dataframe tbody tr th {\n",
       "        vertical-align: top;\n",
       "    }\n",
       "\n",
       "    .dataframe thead th {\n",
       "        text-align: right;\n",
       "    }\n",
       "</style>\n",
       "<table border=\"1\" class=\"dataframe\">\n",
       "  <thead>\n",
       "    <tr style=\"text-align: right;\">\n",
       "      <th></th>\n",
       "      <th>sentence</th>\n",
       "      <th>label</th>\n",
       "      <th>pred_label</th>\n",
       "    </tr>\n",
       "  </thead>\n",
       "  <tbody>\n",
       "    <tr>\n",
       "      <th>10650</th>\n",
       "      <td>i noticed several months ago that i d start fe...</td>\n",
       "      <td>stressed</td>\n",
       "      <td>stressed</td>\n",
       "    </tr>\n",
       "    <tr>\n",
       "      <th>2041</th>\n",
       "      <td>i love lots of different kinds of sports and l...</td>\n",
       "      <td>not-stressed</td>\n",
       "      <td>not-stressed</td>\n",
       "    </tr>\n",
       "  </tbody>\n",
       "</table>\n",
       "</div>"
      ],
      "text/plain": [
       "                                                sentence         label  \\\n",
       "10650  i noticed several months ago that i d start fe...      stressed   \n",
       "2041   i love lots of different kinds of sports and l...  not-stressed   \n",
       "\n",
       "         pred_label  \n",
       "10650      stressed  \n",
       "2041   not-stressed  "
      ]
     },
     "execution_count": 22,
     "metadata": {},
     "output_type": "execute_result"
    }
   ],
   "source": [
    "test_data = df_reidx.iloc[test_idx]\n",
    "test_data['pred_label'] = y_pred_test_lr\n",
    "test_data.head(2)[['sentence','label','pred_label']]\n",
    "# shows what the prediction label fit to the real label"
   ]
  },
  {
   "cell_type": "code",
   "execution_count": 23,
   "metadata": {
    "execution": {
     "iopub.execute_input": "2021-11-20T13:45:44.923000Z",
     "iopub.status.busy": "2021-11-20T13:45:44.922050Z",
     "iopub.status.idle": "2021-11-20T13:45:44.931853Z",
     "shell.execute_reply": "2021-11-20T13:45:44.932367Z"
    },
    "id": "G08njojA4JMi",
    "outputId": "cc4adb34-ebcb-4173-fdfe-bb3f646a142e",
    "papermill": {
     "duration": 0.105558,
     "end_time": "2021-11-20T13:45:44.932516",
     "exception": false,
     "start_time": "2021-11-20T13:45:44.826958",
     "status": "completed"
    },
    "tags": []
   },
   "outputs": [
    {
     "data": {
      "text/html": [
       "<div>\n",
       "<style scoped>\n",
       "    .dataframe tbody tr th:only-of-type {\n",
       "        vertical-align: middle;\n",
       "    }\n",
       "\n",
       "    .dataframe tbody tr th {\n",
       "        vertical-align: top;\n",
       "    }\n",
       "\n",
       "    .dataframe thead th {\n",
       "        text-align: right;\n",
       "    }\n",
       "</style>\n",
       "<table border=\"1\" class=\"dataframe\">\n",
       "  <thead>\n",
       "    <tr style=\"text-align: right;\">\n",
       "      <th></th>\n",
       "      <th>sentence</th>\n",
       "      <th>label</th>\n",
       "      <th>pred_label</th>\n",
       "    </tr>\n",
       "  </thead>\n",
       "  <tbody>\n",
       "    <tr>\n",
       "      <th>11072</th>\n",
       "      <td>being subject to unfair treatment in a working...</td>\n",
       "      <td>stressed</td>\n",
       "      <td>not-stressed</td>\n",
       "    </tr>\n",
       "    <tr>\n",
       "      <th>960</th>\n",
       "      <td>i will put my hand on his scar covered chest a...</td>\n",
       "      <td>not-stressed</td>\n",
       "      <td>stressed</td>\n",
       "    </tr>\n",
       "  </tbody>\n",
       "</table>\n",
       "</div>"
      ],
      "text/plain": [
       "                                                sentence         label  \\\n",
       "11072  being subject to unfair treatment in a working...      stressed   \n",
       "960    i will put my hand on his scar covered chest a...  not-stressed   \n",
       "\n",
       "         pred_label  \n",
       "11072  not-stressed  \n",
       "960        stressed  "
      ]
     },
     "execution_count": 23,
     "metadata": {},
     "output_type": "execute_result"
    }
   ],
   "source": [
    "# shows what the prediction label does not fit to the real label\n",
    "test_data[test_data['label'] != test_data['pred_label']].head()[['sentence','label','pred_label']].head(2)"
   ]
  },
  {
   "cell_type": "markdown",
   "metadata": {
    "id": "YQiIzf5nVKpy",
    "papermill": {
     "duration": 0.088366,
     "end_time": "2021-11-20T13:45:45.109252",
     "exception": false,
     "start_time": "2021-11-20T13:45:45.020886",
     "status": "completed"
    },
    "tags": []
   },
   "source": [
    "##### Predicted features of logistic regression model"
   ]
  },
  {
   "cell_type": "code",
   "execution_count": 24,
   "metadata": {
    "execution": {
     "iopub.execute_input": "2021-11-20T13:45:45.348178Z",
     "iopub.status.busy": "2021-11-20T13:45:45.347255Z",
     "iopub.status.idle": "2021-11-20T13:45:45.362042Z",
     "shell.execute_reply": "2021-11-20T13:45:45.363465Z"
    },
    "id": "MxlhT5tE4VZC",
    "outputId": "d0eb46bd-ce90-46a7-9de2-92da9e2b9f18",
    "papermill": {
     "duration": 0.163506,
     "end_time": "2021-11-20T13:45:45.363685",
     "exception": false,
     "start_time": "2021-11-20T13:45:45.200179",
     "status": "completed"
    },
    "tags": []
   },
   "outputs": [
    {
     "name": "stdout",
     "output_type": "stream",
     "text": [
      "Top positive features:\n"
     ]
    },
    {
     "data": {
      "text/plain": [
       "[('agit', 3.413),\n",
       " ('intimid', 3.325),\n",
       " ('tortur', 3.279),\n",
       " ('reluct', 3.207),\n",
       " ('enviou', 3.165),\n",
       " ('punish', 3.134),\n",
       " ('groggi', 3.055),\n",
       " ('jealou', 2.976),\n",
       " ('weird', 2.972),\n",
       " ('gloomi', 2.922)]"
      ]
     },
     "execution_count": 24,
     "metadata": {},
     "output_type": "execute_result"
    }
   ],
   "source": [
    "feature_to_coef = {word: float(\"%.3f\" % coef) for word, coef in zip(vectorizer.get_feature_names(), lr_clf.coef_[0])}\n",
    "\n",
    "print(\"Top positive features:\")\n",
    "sorted(feature_to_coef.items(), key=lambda x: x[1], reverse=True)[:10]"
   ]
  },
  {
   "cell_type": "code",
   "execution_count": 25,
   "metadata": {
    "execution": {
     "iopub.execute_input": "2021-11-20T13:45:45.687986Z",
     "iopub.status.busy": "2021-11-20T13:45:45.687050Z",
     "iopub.status.idle": "2021-11-20T13:45:45.696713Z",
     "shell.execute_reply": "2021-11-20T13:45:45.697610Z"
    },
    "id": "L-Zu8m4TQ_tl",
    "outputId": "1b08231b-b764-446d-a53d-4ca8c2785cbd",
    "papermill": {
     "duration": 0.156362,
     "end_time": "2021-11-20T13:45:45.697829",
     "exception": false,
     "start_time": "2021-11-20T13:45:45.541467",
     "status": "completed"
    },
    "tags": []
   },
   "outputs": [
    {
     "name": "stdout",
     "output_type": "stream",
     "text": [
      "Top negative features:\n"
     ]
    },
    {
     "data": {
      "text/plain": [
       "[('sympathet', -3.849),\n",
       " ('superior', -3.514),\n",
       " ('satisfi', -3.406),\n",
       " ('nostalg', -3.16),\n",
       " ('belov', -3.104),\n",
       " ('naughti', -3.097),\n",
       " ('resolv', -3.081),\n",
       " ('passion', -3.079),\n",
       " ('energet', -3.046),\n",
       " ('intellig', -3.037)]"
      ]
     },
     "execution_count": 25,
     "metadata": {},
     "output_type": "execute_result"
    }
   ],
   "source": [
    "# most of the words are reliable evidence of indicating negative sentiments\n",
    "print(\"Top negative features:\")\n",
    "sorted(feature_to_coef.items(), key=lambda x: x[1], reverse=False)[:10]"
   ]
  },
  {
   "cell_type": "markdown",
   "metadata": {
    "id": "__g2W9hzVSvI",
    "papermill": {
     "duration": 0.119763,
     "end_time": "2021-11-20T13:45:45.969150",
     "exception": false,
     "start_time": "2021-11-20T13:45:45.849387",
     "status": "completed"
    },
    "tags": []
   },
   "source": [
    "##### Predicted features of BernouliNB"
   ]
  },
  {
   "cell_type": "code",
   "execution_count": 26,
   "metadata": {
    "execution": {
     "iopub.execute_input": "2021-11-20T13:45:46.169070Z",
     "iopub.status.busy": "2021-11-20T13:45:46.168270Z",
     "iopub.status.idle": "2021-11-20T13:45:46.173526Z",
     "shell.execute_reply": "2021-11-20T13:45:46.172886Z"
    },
    "id": "OZj7AYpyQPJP",
    "outputId": "e14658e5-25db-4325-ec74-f536425753dc",
    "papermill": {
     "duration": 0.11406,
     "end_time": "2021-11-20T13:45:46.173653",
     "exception": false,
     "start_time": "2021-11-20T13:45:46.059593",
     "status": "completed"
    },
    "tags": []
   },
   "outputs": [
    {
     "name": "stdout",
     "output_type": "stream",
     "text": [
      "Top positive features:\n"
     ]
    },
    {
     "data": {
      "text/plain": [
       "[('like', -1.84),\n",
       " ('noth', -2.605),\n",
       " ('know', -2.835),\n",
       " ('realli', -2.919),\n",
       " ('time', -2.942),\n",
       " ('littl', -2.944),\n",
       " ('make', -3.05),\n",
       " ('want', -3.069),\n",
       " ('think', -3.138),\n",
       " ('thing', -3.158)]"
      ]
     },
     "execution_count": 26,
     "metadata": {},
     "output_type": "execute_result"
    }
   ],
   "source": [
    "feature_to_coef = {word: float(\"%.3f\" % coef) for word, coef in zip(vectorizer.get_feature_names(), nb_clf.coef_[0])}\n",
    "\n",
    "print(\"Top positive features:\")\n",
    "sorted(feature_to_coef.items(), key=lambda x: x[1], reverse=True)[:10]"
   ]
  },
  {
   "cell_type": "code",
   "execution_count": 27,
   "metadata": {
    "execution": {
     "iopub.execute_input": "2021-11-20T13:45:46.392528Z",
     "iopub.status.busy": "2021-11-20T13:45:46.391614Z",
     "iopub.status.idle": "2021-11-20T13:45:46.396506Z",
     "shell.execute_reply": "2021-11-20T13:45:46.397330Z"
    },
    "id": "wCqxxw3RRBaw",
    "outputId": "05b24a37-dbc1-4a10-b96c-5e3970873b98",
    "papermill": {
     "duration": 0.12109,
     "end_time": "2021-11-20T13:45:46.397539",
     "exception": false,
     "start_time": "2021-11-20T13:45:46.276449",
     "status": "completed"
    },
    "tags": []
   },
   "outputs": [
    {
     "name": "stdout",
     "output_type": "stream",
     "text": [
      "Top negative features:\n"
     ]
    },
    {
     "data": {
      "text/plain": [
       "[('abyss', -8.999),\n",
       " ('accent', -8.999),\n",
       " ('accumul', -8.999),\n",
       " ('acquaint', -8.999),\n",
       " ('actio', -8.999),\n",
       " ('adrenalin', -8.999),\n",
       " ('advoc', -8.999),\n",
       " ('aesthet', -8.999),\n",
       " ('affection', -8.999),\n",
       " ('al', -8.999)]"
      ]
     },
     "execution_count": 27,
     "metadata": {},
     "output_type": "execute_result"
    }
   ],
   "source": [
    "# most of the words are reliable evidence of indicating negative sentiments\n",
    "print(\"Top negative features:\")\n",
    "sorted(feature_to_coef.items(), key=lambda x: x[1], reverse=False)[:10]"
   ]
  },
  {
   "cell_type": "markdown",
   "metadata": {
    "id": "_dd9PlAKVASq",
    "papermill": {
     "duration": 0.099255,
     "end_time": "2021-11-20T13:45:46.597043",
     "exception": false,
     "start_time": "2021-11-20T13:45:46.497788",
     "status": "completed"
    },
    "tags": []
   },
   "source": [
    "##### Predicted features of multinomial NB"
   ]
  },
  {
   "cell_type": "code",
   "execution_count": 28,
   "metadata": {
    "execution": {
     "iopub.execute_input": "2021-11-20T13:45:46.815910Z",
     "iopub.status.busy": "2021-11-20T13:45:46.815100Z",
     "iopub.status.idle": "2021-11-20T13:45:46.820608Z",
     "shell.execute_reply": "2021-11-20T13:45:46.819874Z"
    },
    "id": "sdxER_gxQPpp",
    "outputId": "fb488f65-f701-4f6f-dd52-7ce31ae1a477",
    "papermill": {
     "duration": 0.122202,
     "end_time": "2021-11-20T13:45:46.820796",
     "exception": false,
     "start_time": "2021-11-20T13:45:46.698594",
     "status": "completed"
    },
    "tags": []
   },
   "outputs": [
    {
     "name": "stdout",
     "output_type": "stream",
     "text": [
      "Top positive features:\n"
     ]
    },
    {
     "data": {
      "text/plain": [
       "[('like', -3.715),\n",
       " ('noth', -4.482),\n",
       " ('know', -4.748),\n",
       " ('realli', -4.819),\n",
       " ('littl', -4.86),\n",
       " ('time', -4.86),\n",
       " ('make', -4.949),\n",
       " ('want', -4.966),\n",
       " ('thing', -5.068),\n",
       " ('think', -5.071)]"
      ]
     },
     "execution_count": 28,
     "metadata": {},
     "output_type": "execute_result"
    }
   ],
   "source": [
    "feature_to_coef = {word: float(\"%.3f\" % coef) for word, coef in zip(vectorizer.get_feature_names(), mnb.coef_[0])}\n",
    "\n",
    "print(\"Top positive features:\")\n",
    "sorted(feature_to_coef.items(), key=lambda x: x[1], reverse=True)[:10]"
   ]
  },
  {
   "cell_type": "code",
   "execution_count": 29,
   "metadata": {
    "execution": {
     "iopub.execute_input": "2021-11-20T13:45:47.026405Z",
     "iopub.status.busy": "2021-11-20T13:45:47.025434Z",
     "iopub.status.idle": "2021-11-20T13:45:47.035076Z",
     "shell.execute_reply": "2021-11-20T13:45:47.035657Z"
    },
    "id": "kPa6sLvLvjbT",
    "outputId": "5d166425-f33e-41d5-d5d2-87368991bde4",
    "papermill": {
     "duration": 0.11243,
     "end_time": "2021-11-20T13:45:47.035824",
     "exception": false,
     "start_time": "2021-11-20T13:45:46.923394",
     "status": "completed"
    },
    "tags": []
   },
   "outputs": [
    {
     "name": "stdout",
     "output_type": "stream",
     "text": [
      "Top negative features:\n"
     ]
    },
    {
     "data": {
      "text/plain": [
       "[('abyss', -10.965),\n",
       " ('accent', -10.965),\n",
       " ('accumul', -10.965),\n",
       " ('acquaint', -10.965),\n",
       " ('actio', -10.965),\n",
       " ('adrenalin', -10.965),\n",
       " ('advoc', -10.965),\n",
       " ('aesthet', -10.965),\n",
       " ('affection', -10.965),\n",
       " ('al', -10.965)]"
      ]
     },
     "execution_count": 29,
     "metadata": {},
     "output_type": "execute_result"
    }
   ],
   "source": [
    "# most of the words are reliable evidence of indicating negative sentiments\n",
    "print(\"Top negative features:\")\n",
    "sorted(feature_to_coef.items(), key=lambda x: x[1], reverse=False)[:10]"
   ]
  },
  {
   "cell_type": "markdown",
   "metadata": {
    "id": "4enhxresvsZo",
    "papermill": {
     "duration": 0.101631,
     "end_time": "2021-11-20T13:45:47.237178",
     "exception": false,
     "start_time": "2021-11-20T13:45:47.135547",
     "status": "completed"
    },
    "tags": []
   },
   "source": [
    "# Conclusion"
   ]
  },
  {
   "cell_type": "code",
   "execution_count": 30,
   "metadata": {
    "_kg_hide-input": true,
    "execution": {
     "iopub.execute_input": "2021-11-20T13:45:47.447036Z",
     "iopub.status.busy": "2021-11-20T13:45:47.446056Z",
     "iopub.status.idle": "2021-11-20T13:45:47.449625Z",
     "shell.execute_reply": "2021-11-20T13:45:47.450319Z"
    },
    "id": "sy7jHH-Fv18V",
    "outputId": "08829bec-09e7-4d27-a2cd-eb2dad49a03c",
    "papermill": {
     "duration": 0.112614,
     "end_time": "2021-11-20T13:45:47.450527",
     "exception": false,
     "start_time": "2021-11-20T13:45:47.337913",
     "status": "completed"
    },
    "tags": []
   },
   "outputs": [
    {
     "name": "stdout",
     "output_type": "stream",
     "text": [
      "['stressed' 'not-stressed' 'stressed']\n"
     ]
    }
   ],
   "source": [
    "text=['i am not feeling well', 'i want to make this project better', 'i feel aaaaaaah']\n",
    "test_result = lr_clf.predict(vectorizer.transform(text))\n",
    "print(test_result)"
   ]
  }
 ],
 "metadata": {
  "kernelspec": {
   "display_name": "Python 3",
   "language": "python",
   "name": "python3"
  },
  "language_info": {
   "codemirror_mode": {
    "name": "ipython",
    "version": 3
   },
   "file_extension": ".py",
   "mimetype": "text/x-python",
   "name": "python",
   "nbconvert_exporter": "python",
   "pygments_lexer": "ipython3",
   "version": "3.7.6"
  },
  "papermill": {
   "default_parameters": {},
   "duration": 99.863188,
   "end_time": "2021-11-20T13:45:48.265966",
   "environment_variables": {},
   "exception": null,
   "input_path": "__notebook__.ipynb",
   "output_path": "__notebook__.ipynb",
   "parameters": {},
   "start_time": "2021-11-20T13:44:08.402778",
   "version": "2.3.3"
  }
 },
 "nbformat": 4,
 "nbformat_minor": 5
}
